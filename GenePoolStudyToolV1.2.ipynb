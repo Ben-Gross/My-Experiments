{
 "cells": [
  {
   "cell_type": "code",
   "execution_count": 1,
   "metadata": {},
   "outputs": [
    {
     "name": "stdout",
     "output_type": "stream",
     "text": [
      "---genome differences---\n",
      "[1, 0, 0, -25, 0, 0, 0, 0, 0, 0, 0, -29, 0, 0, 18, 0, 0, 0, 0, 43, 0, 0, 103, 0, 0, 0, 0, 0, -25, -218, 0, 0, -54, 81, 0, 0, 0, 0, 0, 17, 0, -62, 0, 0, 0, 0, 0, 24, -89, 27, 0, 0, 0, -76, -96, -92, 0, 58, 0, 0, 239, 116, 13, -46, 186, 0, -198, 92, 0, 0]\n",
      "---differences graph---\n",
      "   > blue = gene2 deviations from gene1\n",
      "   > orange = gene1 target line\n"
     ]
    },
    {
     "data": {
      "text/plain": [
       "<Figure size 640x480 with 1 Axes>"
      ]
     },
     "metadata": {},
     "output_type": "display_data"
    },
    {
     "name": "stdout",
     "output_type": "stream",
     "text": [
      "---gene overlap graph---\n",
      "   > blue = gene1\n",
      "   > orange = gene2\n"
     ]
    },
    {
     "data": {
      "text/plain": [
       "<Figure size 640x480 with 1 Axes>"
      ]
     },
     "metadata": {},
     "output_type": "display_data"
    },
    {
     "name": "stdout",
     "output_type": "stream",
     "text": [
      "---list of gene differences---\n",
      "gene affected: red base\n",
      "       --> by: 1\n",
      "gene affected: color shift scale\n",
      "       --> by: -25\n",
      "gene affected: start amplitude\n",
      "       --> by: -29\n",
      "gene affected: end outline\n",
      "       --> by: 18\n",
      "gene affected: growth turn amp 1\n",
      "       --> by: 43\n",
      "gene affected: branch phase 1\n",
      "       --> by: 103\n",
      "gene affected: thick growth 1\n",
      "       --> by: -25\n",
      "gene affected: length growth 1\n",
      "       --> by: -218\n",
      "gene affected: branch blue shift 1\n",
      "       --> by: -54\n",
      "gene affected: branch amp flip 1\n",
      "       --> by: 81\n",
      "gene affected: growth turn phase acc 2\n",
      "       --> by: 17\n",
      "gene affected: branch phase shift 2\n",
      "       --> by: -62\n",
      "gene affected: length growth 2\n",
      "       --> by: 24\n",
      "gene affected: branch red shift 2\n",
      "       --> by: -89\n",
      "gene affected: branch green shift 2\n",
      "       --> by: 27\n",
      "gene affected: category shift 3\n",
      "       --> by: -76\n",
      "gene affected: branch amp 3\n",
      "       --> by: -96\n",
      "gene affected: growth turn amp 3\n",
      "       --> by: -92\n",
      "gene affected: growth turn phase acc 3\n",
      "       --> by: 58\n",
      "gene affected: branch angle 3\n",
      "       --> by: 239\n",
      "gene affected: branch angle offset 3\n",
      "       --> by: 116\n",
      "gene affected: replicate number 3\n",
      "       --> by: 13\n",
      "gene affected: replicate delay 3\n",
      "       --> by: -46\n",
      "gene affected: thick growth 3\n",
      "       --> by: 186\n",
      "gene affected: branch red shift 3\n",
      "       --> by: -198\n",
      "gene affected: branch green shift 3\n",
      "       --> by: 92\n",
      "    \n",
      "---count of affected genes---\n",
      "# of affected genes >= 0: 26\n",
      "# of affected genes >= 5: 25\n",
      "# of affected genes >= 10: 25\n",
      "# of affected genes >= 25: 21\n",
      "# of affected genes >= 50: 15\n",
      "# of affected genes >= 100: 6\n",
      "# of affected genes >= 200: 2\n"
     ]
    }
   ],
   "source": [
    "import matplotlib.pyplot as plt\n",
    "gene_affected = {1:\"red base\",2:\"green base\",3:\"blue base\",4:\"color shift scale\",5:\"red shift\",6:\"green shift\",7:\"blue shift\",8:\"base category\",9:\"phase shift\",10:\"continuation\",11:\"frequency\",12:\"start amplitude\",13:\"secondary branching\",14:\"taper\",15:\"end outline\",16:\"root size\",17:\"branch category 1\",18:\"category shift 1\",19:\"branch amp 1\",20:\"growth turn amp 1\",21:\"growth turn phase 1\",22:\"growth turn phase acc 1\",23:\"branch phase 1\",24:\"branch phase shift 1\",25:\"branch angle 1\",26:\"branch angle offset 1\",27:\"replicate number 1\",28:\"replicate delay 1\",29:\"thick growth 1\",30:\"length growth 1\",31:\"branch red shift 1\",32:\"branch green shift 1\",33:\"branch blue shift 1\",34:\"branch amp flip 1\",35:\"branch category 2\",36:\"category shift 2\",37:\"branch amp 2\",38:\"growth turn amp 2\",39:\"growth turn phase 2\",40:\"growth turn phase acc 2\",41:\"branch phase 2\",42:\"branch phase shift 2\",43:\"branch angle 2\",44:\"branch angle offset 2\",45:\"replicate number 2\",46:\"replicate delay 2\",47:\"thick growth 2\",48:\"length growth 2\",49:\"branch red shift 2\",50:\"branch green shift 2\",51:\"branch blue shift 2\",52:\"branch amp flip 2\",53:\"branch category 3\",54:\"category shift 3\",55:\"branch amp 3\",56:\"growth turn amp 3\",57:\"growth turn phase 3\",58:\"growth turn phase acc 3\",59:\"branch phase 3\",60:\"branch phase shift 3\",61:\"branch angle 3\",62:\"branch angle offset 3\",63:\"replicate number 3\",64:\"replicate delay 3\",65:\"thick growth 3\",66:\"length growth 3\",67:\"branch red shift 3\",68:\"branch green shift 3\",69:\"branch blue shift 3\",70:\"branch amp flip 3\"}\n",
    "gene1 = []\n",
    "gene2 = []\n",
    "dif = []\n",
    "stag = []\n",
    "affected_0 = 0\n",
    "affected_5 = 0\n",
    "affected_10 = 0\n",
    "affected_25 = 0\n",
    "affected_50 = 0\n",
    "affected_100 = 0\n",
    "affected_200 = 0\n",
    "for i in range (len(gene1)):\n",
    "    dif.append(gene2[i]-gene1[i])\n",
    "    stag.append(0)\n",
    "print(\"---genome differences---\")\n",
    "print(dif)\n",
    "print(\"---differences graph---\")\n",
    "print(\"   > blue = gene2 deviations from gene1\")\n",
    "print(\"   > orange = gene1 target line\")\n",
    "plt.axis([0,70,-225,225])\n",
    "plt.plot(dif, linewidth = 2.0)\n",
    "plt.plot(stag, linewidth = 0.5)\n",
    "plt.show()\n",
    "print(\"---gene overlap graph---\")\n",
    "print(\"   > blue = gene1\")\n",
    "print(\"   > orange = gene2\")\n",
    "plt.axis([0,70,0,225])\n",
    "plt.plot(gene1)\n",
    "plt.plot(gene2)\n",
    "plt.show()\n",
    "print(\"---list of gene differences---\")\n",
    "for x in range(len(dif)):\n",
    "    if dif[x] != 0:\n",
    "        print(\"gene affected:\",gene_affected[x+1])\n",
    "        print(\"       --> by:\",dif[x])\n",
    "        affected_0 += 1\n",
    "        if abs(dif[x]) >= 5:\n",
    "            affected_5 += 1\n",
    "        if abs(dif[x]) >= 10:\n",
    "            affected_10 += 1\n",
    "        if abs(dif[x]) >= 25:\n",
    "            affected_25 += 1\n",
    "        if abs(dif[x]) >= 50:\n",
    "            affected_50 += 1\n",
    "        if abs(dif[x]) >= 100:\n",
    "            affected_100 += 1\n",
    "        if abs(dif[x]) >= 200:\n",
    "            affected_200 += 1\n",
    "print(\"    \")\n",
    "print(\"---count of affected genes---\")\n",
    "print(\"# of affected genes >= 0:\",affected_0)\n",
    "print(\"# of affected genes >= 5:\",affected_5)\n",
    "print(\"# of affected genes >= 10:\",affected_10)\n",
    "print(\"# of affected genes >= 25:\",affected_25)\n",
    "print(\"# of affected genes >= 50:\",affected_50)\n",
    "print(\"# of affected genes >= 100:\",affected_100)\n",
    "print(\"# of affected genes >= 200:\",affected_200)"
   ]
  },
  {
   "cell_type": "code",
   "execution_count": null,
   "metadata": {},
   "outputs": [],
   "source": []
  }
 ],
 "metadata": {
  "kernelspec": {
   "display_name": "Python 3",
   "language": "python",
   "name": "python3"
  },
  "language_info": {
   "codemirror_mode": {
    "name": "ipython",
    "version": 3
   },
   "file_extension": ".py",
   "mimetype": "text/x-python",
   "name": "python",
   "nbconvert_exporter": "python",
   "pygments_lexer": "ipython3",
   "version": "3.6.7"
  }
 },
 "nbformat": 4,
 "nbformat_minor": 2
}

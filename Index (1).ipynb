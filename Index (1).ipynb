{
 "cells": [
  {
   "cell_type": "code",
   "execution_count": 1,
   "metadata": {},
   "outputs": [
    {
     "name": "stdout",
     "output_type": "stream",
     "text": [
      "---genome differences---\n",
      "[0, 0, 0, -139, 33, 0, 0, 0, 1, -61, 0, 0, -34, -102, -37, -42, 0, 140, 0, 0, 0, 0, 0, 0, 0, 29, 0, 0, -48, 0, 0, 0, 0, 0, 0, 0, 0, 0, 0, -5, -89, 129, -86, 2, 0, -21, 0, -26, 25, 50, 11, 0, -52, 0, -40, 0, 0, 36, 45, -1, 165, 12, -40, 0, 0, 245, 0, 0, 0, 0]\n",
      "---differences graph---\n"
     ]
    },
    {
     "data": {
      "text/plain": [
       "<Figure size 640x480 with 1 Axes>"
      ]
     },
     "metadata": {},
     "output_type": "display_data"
    },
    {
     "name": "stdout",
     "output_type": "stream",
     "text": [
      "---gene overlap graph---\n"
     ]
    },
    {
     "data": {
      "text/plain": [
       "<Figure size 640x480 with 1 Axes>"
      ]
     },
     "metadata": {},
     "output_type": "display_data"
    },
    {
     "name": "stdout",
     "output_type": "stream",
     "text": [
      "---list of gene differences---\n",
      "gene affected: color shift scale\n",
      "       --> by: -139\n",
      "gene affected: red shift\n",
      "       --> by: 33\n",
      "gene affected: phase shift\n",
      "       --> by: 1\n",
      "gene affected: continuation\n",
      "       --> by: -61\n",
      "gene affected: secondary branching\n",
      "       --> by: -34\n",
      "gene affected: taper\n",
      "       --> by: -102\n",
      "gene affected: end outline\n",
      "       --> by: -37\n",
      "gene affected: root size\n",
      "       --> by: -42\n",
      "gene affected: category shift 1\n",
      "       --> by: 140\n",
      "gene affected: branch angle offset 1\n",
      "       --> by: 29\n",
      "gene affected: thick growth 1\n",
      "       --> by: -48\n",
      "gene affected: growth turn phase acc 2\n",
      "       --> by: -5\n",
      "gene affected: branch phase 2\n",
      "       --> by: -89\n",
      "gene affected: branch phase shift 2\n",
      "       --> by: 129\n",
      "gene affected: branch angle 2\n",
      "       --> by: -86\n",
      "gene affected: branch angle offset 2\n",
      "       --> by: 2\n",
      "gene affected: replicate delay 2\n",
      "       --> by: -21\n",
      "gene affected: length growth 2\n",
      "       --> by: -26\n",
      "gene affected: branch red shift 2\n",
      "       --> by: 25\n",
      "gene affected: branch green shift 2\n",
      "       --> by: 50\n",
      "gene affected: branch blue shift 2\n",
      "       --> by: 11\n",
      "gene affected: branch category 3\n",
      "       --> by: -52\n",
      "gene affected: branch amp 3\n",
      "       --> by: -40\n",
      "gene affected: growth turn phase acc 3\n",
      "       --> by: 36\n",
      "gene affected: branch phase 3\n",
      "       --> by: 45\n",
      "gene affected: branch phase shift 3\n",
      "       --> by: -1\n",
      "gene affected: branch angle 3\n",
      "       --> by: 165\n",
      "gene affected: branch angle offset 3\n",
      "       --> by: 12\n",
      "gene affected: replicate number 3\n",
      "       --> by: -40\n",
      "gene affected: length growth 3\n",
      "       --> by: 245\n",
      "    \n",
      "---count of affected genes---\n",
      "# of affected genes >= 0: 30\n",
      "# of affected genes >= 5: 27\n",
      "# of affected genes >= 10: 26\n",
      "# of affected genes >= 25: 23\n",
      "# of affected genes >= 50: 11\n",
      "# of affected genes >= 100: 6\n",
      "# of affected genes >= 200: 1\n"
     ]
    }
   ],
   "source": [
    "import matplotlib.pyplot as plt\n",
    "gene_affected = {1:\"red base\",2:\"green base\",3:\"blue base\",4:\"color shift scale\",5:\"red shift\",6:\"green shift\",7:\"blue shift\",8:\"base category\",9:\"phase shift\",10:\"continuation\",11:\"frequency\",12:\"start amplitude\",13:\"secondary branching\",14:\"taper\",15:\"end outline\",16:\"root size\",17:\"branch category 1\",18:\"category shift 1\",19:\"branch amp 1\",20:\"growth turn amp 1\",21:\"growth turn phase 1\",22:\"growth turn phase acc 1\",23:\"branch phase 1\",24:\"branch phase shift 1\",25:\"branch angle 1\",26:\"branch angle offset 1\",27:\"replicate number 1\",28:\"replicate delay 1\",29:\"thick growth 1\",30:\"length growth 1\",31:\"branch red shift 1\",32:\"branch green shift 1\",33:\"branch blue shift 1\",34:\"branch amp flip 1\",35:\"branch category 2\",36:\"category shift 2\",37:\"branch amp 2\",38:\"growth turn amp 2\",39:\"growth turn phase 2\",40:\"growth turn phase acc 2\",41:\"branch phase 2\",42:\"branch phase shift 2\",43:\"branch angle 2\",44:\"branch angle offset 2\",45:\"replicate number 2\",46:\"replicate delay 2\",47:\"thick growth 2\",48:\"length growth 2\",49:\"branch red shift 2\",50:\"branch green shift 2\",51:\"branch blue shift 2\",52:\"branch amp flip 2\",53:\"branch category 3\",54:\"category shift 3\",55:\"branch amp 3\",56:\"growth turn amp 3\",57:\"growth turn phase 3\",58:\"growth turn phase acc 3\",59:\"branch phase 3\",60:\"branch phase shift 3\",61:\"branch angle 3\",62:\"branch angle offset 3\",63:\"replicate number 3\",64:\"replicate delay 3\",65:\"thick growth 3\",66:\"length growth 3\",67:\"branch red shift 3\",68:\"branch green shift 3\",69:\"branch blue shift 3\",70:\"branch amp flip 3\"}\n",
    "gene1 = [24, 217, 178, 163, 155, 184, 205, 91, 1, 82, 235, 3, 50, 112, 229, 190, 16, 8, 177, 251, 184, 134, 70, 121, 169, 96, 72, 153, 217, 227, 210, 51, 163, 133, 114, 114, 89, 196, 226, 212, 132, 64, 111, 172, 170, 202, 203, 130, 139, 70, 208, 62, 216, 135, 173, 59, 172, 160, 132, 252, 41, 161, 227, 26, 49, 10, 94, 139, 19, 240]\n",
    "gene2 = [24, 217, 178, 24, 188, 184, 205, 91, 2, 21, 235, 3, 16, 10, 192, 148, 16, 148, 177, 251, 184, 134, 70, 121, 169, 125, 72, 153, 169, 227, 210, 51, 163, 133, 114, 114, 89, 196, 226, 207, 43, 193, 25, 174, 170, 181, 203, 104, 164, 120, 219, 62, 164, 135, 133, 59, 172, 196, 177, 251, 206, 173, 187, 26, 49, 255, 94, 139, 19, 240]\n",
    "dif = []\n",
    "stag = []\n",
    "affected_0 = 0\n",
    "affected_5 = 0\n",
    "affected_10 = 0\n",
    "affected_25 = 0\n",
    "affected_50 = 0\n",
    "affected_100 = 0\n",
    "affected_200 = 0\n",
    "for i in range (len(gene1)):\n",
    "    dif.append(gene2[i]-gene1[i])\n",
    "    stag.append(0)\n",
    "print(\"---genome differences---\")\n",
    "print(dif)\n",
    "print(\"---differences graph---\")\n",
    "plt.axis([0,70,-300,300])\n",
    "plt.plot(dif, linewidth = 2.0)\n",
    "plt.plot(stag, linewidth = 0.5)\n",
    "plt.show()\n",
    "print(\"---gene overlap graph---\")\n",
    "plt.axis([0,70,0,300])\n",
    "plt.plot(gene1)\n",
    "plt.plot(gene2)\n",
    "plt.show()\n",
    "print(\"---list of gene differences---\")\n",
    "for x in range(len(dif)):\n",
    "    if dif[x] != 0:\n",
    "        print(\"gene affected:\",gene_affected[x+1])\n",
    "        print(\"       --> by:\",dif[x])\n",
    "        affected_0 += 1\n",
    "        if abs(dif[x]) >= 5:\n",
    "            affected_5 += 1\n",
    "        if abs(dif[x]) >= 10:\n",
    "            affected_10 += 1\n",
    "        if abs(dif[x]) >= 25:\n",
    "            affected_25 += 1\n",
    "        if abs(dif[x]) >= 50:\n",
    "            affected_50 += 1\n",
    "        if abs(dif[x]) >= 100:\n",
    "            affected_100 += 1\n",
    "        if abs(dif[x]) >= 200:\n",
    "            affected_200 += 1\n",
    "print(\"    \")\n",
    "print(\"---count of affected genes---\")\n",
    "print(\"# of affected genes >= 0:\",affected_0)\n",
    "print(\"# of affected genes >= 5:\",affected_5)\n",
    "print(\"# of affected genes >= 10:\",affected_10)\n",
    "print(\"# of affected genes >= 25:\",affected_25)\n",
    "print(\"# of affected genes >= 50:\",affected_50)\n",
    "print(\"# of affected genes >= 100:\",affected_100)\n",
    "print(\"# of affected genes >= 200:\",affected_200)"
   ]
  },
  {
   "cell_type": "code",
   "execution_count": null,
   "metadata": {},
   "outputs": [],
   "source": []
  }
 ],
 "metadata": {
  "kernelspec": {
   "display_name": "Python 3",
   "language": "python",
   "name": "python3"
  },
  "language_info": {
   "codemirror_mode": {
    "name": "ipython",
    "version": 3
   },
   "file_extension": ".py",
   "mimetype": "text/x-python",
   "name": "python",
   "nbconvert_exporter": "python",
   "pygments_lexer": "ipython3",
   "version": "3.6.7"
  }
 },
 "nbformat": 4,
 "nbformat_minor": 2
}
